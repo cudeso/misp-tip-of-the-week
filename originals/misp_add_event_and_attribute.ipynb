{
 "cells": [
  {
   "cell_type": "markdown",
   "id": "c52467a6",
   "metadata": {},
   "source": [
    "# Manually add a MISP event and attribute\n",
    "\n",
    "This notebook shows you how to manually add a MISP event and one attribute, all with the use of PyMISP.\n",
    "\n",
    "# Configure PyMISP\n",
    "\n",
    "The configuration of PyMISP is done via the **keys.py** file. \n",
    "\n",
    "This file needs to contain at least the **URL** of the MISP server (misp_url) and an **authentication key** (misp_key). You can have multiple keys per user, stored in separate files. Make sure you restrict access to the keys as they give exactly the same permissions as the associated user.\n",
    "\n",
    "Instead of a keys file you can also supply the configuration directly via variables.\n",
    "\n",
    "First output what is in our keys file stored in the demo path."
   ]
  },
  {
   "cell_type": "code",
   "execution_count": null,
   "id": "c23e5210",
   "metadata": {},
   "outputs": [],
   "source": [
    "cat ~/demo/PyMISP/keys.py"
   ]
  },
  {
   "cell_type": "markdown",
   "id": "a942e6d2",
   "metadata": {},
   "source": [
    "Then initialise PyMISP and disable the \"Unverified HTTPS request\" warnings."
   ]
  },
  {
   "cell_type": "code",
   "execution_count": null,
   "id": "52fbdc1c",
   "metadata": {},
   "outputs": [],
   "source": [
    "import urllib3\n",
    "from pymisp import PyMISP, MISPEvent\n",
    "from keys import misp_url, misp_key, misp_verifycert\n",
    "\n",
    "if misp_verifycert is False:\n",
    "    import urllib3\n",
    "    urllib3.disable_warnings(urllib3.exceptions.InsecureRequestWarning)\n",
    "\n",
    "misp = PyMISP(misp_url, misp_key, misp_verifycert)\n",
    "    \n",
    "print(\"I will use the server {}\".format(misp_url))"
   ]
  },
  {
   "cell_type": "markdown",
   "id": "64648f15",
   "metadata": {},
   "source": [
    "# Create a MISP event\n",
    "\n",
    "## Basic event elements\n",
    "\n",
    "You need to supply at least an event **title** (info). Optionally add the distribution, threat level and analysis state. These fields expect a numerical format. \n",
    "\n",
    "**Distribution**\n",
    "- 0: Your organization only\n",
    "- 1: This community-only\n",
    "- 2: Connected communities\n",
    "- 3: All communities\n",
    "\n",
    "**Threat level**\n",
    "- 1: Low (mass malware)\n",
    "- 2: Medium (APT)\n",
    "- 3: High (0-day)\n",
    "- 4: Undefined\n",
    "\n",
    "**Analysis**\n",
    "- 0: Initial\n",
    "- 1: Ongoing\n",
    "- 2: Completed"
   ]
  },
  {
   "cell_type": "code",
   "execution_count": null,
   "id": "dd96c6b9",
   "metadata": {
    "scrolled": false
   },
   "outputs": [],
   "source": [
    "event = MISPEvent()\n",
    "\n",
    "event.info = \"Demo event for MISP Tip of the Week\"\n",
    "event.distribution = 3\n",
    "event.threat_level_id = 4\n",
    "event.analysis = 1"
   ]
  },
  {
   "cell_type": "markdown",
   "id": "c7017caf",
   "metadata": {},
   "source": [
    "## Add a date"
   ]
  },
  {
   "cell_type": "code",
   "execution_count": null,
   "id": "d8e340da",
   "metadata": {},
   "outputs": [],
   "source": [
    "event.set_date(\"2022-06-10\")"
   ]
  },
  {
   "cell_type": "markdown",
   "id": "2aa5fd18",
   "metadata": {},
   "source": [
    "## Add a tag"
   ]
  },
  {
   "cell_type": "code",
   "execution_count": null,
   "id": "e78cc13a",
   "metadata": {
    "scrolled": true
   },
   "outputs": [],
   "source": [
    "event.add_tag(\"tlp:amber\")"
   ]
  },
  {
   "cell_type": "markdown",
   "id": "441fa315",
   "metadata": {},
   "source": [
    "## Output the event object\n",
    "\n",
    "Before we continue, let's first print what's in the event object."
   ]
  },
  {
   "cell_type": "code",
   "execution_count": null,
   "id": "6b236bab",
   "metadata": {},
   "outputs": [],
   "source": [
    "print(event.to_json())"
   ]
  },
  {
   "cell_type": "markdown",
   "id": "9d1ec1c2",
   "metadata": {},
   "source": [
    "## Create event in MISP\n",
    "\n",
    "Send the request to the server"
   ]
  },
  {
   "cell_type": "code",
   "execution_count": null,
   "id": "b414293d",
   "metadata": {},
   "outputs": [],
   "source": [
    "result = misp.add_event(event, pythonify=True)\n",
    "print(\"Created event ID {} with UUID {}\".format(result.id, result.uuid))"
   ]
  },
  {
   "cell_type": "markdown",
   "id": "cca2cd0d",
   "metadata": {},
   "source": [
    "# Add attributes\n",
    "\n",
    "Next we add one attribute. \n",
    "\n",
    "Make sure you set the **type** and the **value**, and optionally the **to_ids** flag. It's also a good idea to add contextualisation to the attribute."
   ]
  },
  {
   "cell_type": "code",
   "execution_count": null,
   "id": "9b170838",
   "metadata": {},
   "outputs": [],
   "source": [
    "from pymisp import MISPAttribute\n",
    "\n",
    "attribute = MISPAttribute()\n",
    "attribute.type = \"ip-dst\"\n",
    "attribute.value = \"8.8.4.4\"\n",
    "attribute.to_ids = False\n",
    "attribute.add_tag(\"tlp:white\")\n",
    "attribute.comment = \"There is an initial request to this IP\""
   ]
  },
  {
   "cell_type": "markdown",
   "id": "9bcf90fd",
   "metadata": {},
   "source": [
    "## Output the attribute event\n",
    "\n",
    "Before we continue, let's first print what's in the attribute object."
   ]
  },
  {
   "cell_type": "code",
   "execution_count": null,
   "id": "113007e0",
   "metadata": {},
   "outputs": [],
   "source": [
    "print(attribute.to_json())"
   ]
  },
  {
   "cell_type": "markdown",
   "id": "65453ded",
   "metadata": {},
   "source": [
    "## Add to event\n",
    "\n",
    "And now add the attribute to the event"
   ]
  },
  {
   "cell_type": "code",
   "execution_count": null,
   "id": "ba143700",
   "metadata": {},
   "outputs": [],
   "source": [
    "result_attr = misp.add_attribute(result.id, attribute, pythonify=True)\n",
    "print(\"Added attribute {}\".format(result_attr.uuid))"
   ]
  },
  {
   "cell_type": "markdown",
   "id": "8d720cff",
   "metadata": {},
   "source": [
    "# Get the event from MISP\n",
    "\n",
    "Now, as a verification step we get the event from MISP and output the result."
   ]
  },
  {
   "cell_type": "code",
   "execution_count": null,
   "id": "1ac87ac4",
   "metadata": {},
   "outputs": [],
   "source": [
    "verify_event = misp.get_event(result.id, pythonify=True)\n",
    "print(verify_event.to_json())"
   ]
  },
  {
   "cell_type": "code",
   "execution_count": null,
   "id": "fd652ea7",
   "metadata": {},
   "outputs": [],
   "source": []
  }
 ],
 "metadata": {
  "kernelspec": {
   "display_name": "Python 3 (ipykernel)",
   "language": "python",
   "name": "python3"
  },
  "language_info": {
   "codemirror_mode": {
    "name": "ipython",
    "version": 3
   },
   "file_extension": ".py",
   "mimetype": "text/x-python",
   "name": "python",
   "nbconvert_exporter": "python",
   "pygments_lexer": "ipython3",
   "version": "3.8.10"
  }
 },
 "nbformat": 4,
 "nbformat_minor": 5
}
