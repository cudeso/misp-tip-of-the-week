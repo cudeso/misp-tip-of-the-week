{
 "cells": [
  {
   "cell_type": "markdown",
   "id": "8bfe257f",
   "metadata": {},
   "source": [
    "# MISP Modules\n",
    "\n",
    "The MISP modules are also accessible for querying outside MISP. \n",
    "\n",
    "By default the **misp-module** daemon listens on tcp/6666 on localhost."
   ]
  },
  {
   "cell_type": "code",
   "execution_count": null,
   "id": "6e2e1add",
   "metadata": {},
   "outputs": [],
   "source": [
    "import requests\n",
    "import json\n",
    "\n",
    "module_headers = {\n",
    "    \"Content-Type\": \"application/json\",\n",
    "    \"Accept\": \"application/json\",\n",
    "}\n",
    "\n",
    "modules_url=\"http://127.0.0.1:6666\""
   ]
  },
  {
   "cell_type": "markdown",
   "id": "a57a54c3",
   "metadata": {},
   "source": [
    "## Query available modules\n",
    "\n",
    "We first query for the list of available MISP modules and print out the result."
   ]
  },
  {
   "cell_type": "code",
   "execution_count": null,
   "id": "a0c84ad5",
   "metadata": {},
   "outputs": [],
   "source": [
    "res = requests.get(\"{}/modules\".format(modules_url), headers=module_headers)\n",
    "\n",
    "print(json.dumps(res.json(), indent=4))"
   ]
  },
  {
   "cell_type": "markdown",
   "id": "0f3cd6d5",
   "metadata": {},
   "source": [
    "## Query the DNS module\n",
    "\n",
    "Now we query the DNS module. The only thing we need is set the expected value (hostname, this depends on the module that you are querying) and the module name (dns)."
   ]
  },
  {
   "cell_type": "code",
   "execution_count": null,
   "id": "c1652022",
   "metadata": {},
   "outputs": [],
   "source": [
    "data = {\n",
    "  \"hostname\": \"www.botvrij.eu\",\n",
    "  \"module\": \"dns\"\n",
    "}\n",
    "\n",
    "res = requests.post(\"{}/query\".format(modules_url), headers=module_headers, json=data)\n",
    "print(json.dumps(res.json(), indent=4))"
   ]
  }
 ],
 "metadata": {
  "kernelspec": {
   "display_name": "Python 3 (ipykernel)",
   "language": "python",
   "name": "python3"
  },
  "language_info": {
   "codemirror_mode": {
    "name": "ipython",
    "version": 3
   },
   "file_extension": ".py",
   "mimetype": "text/x-python",
   "name": "python",
   "nbconvert_exporter": "python",
   "pygments_lexer": "ipython3",
   "version": "3.8.10"
  }
 },
 "nbformat": 4,
 "nbformat_minor": 5
}
