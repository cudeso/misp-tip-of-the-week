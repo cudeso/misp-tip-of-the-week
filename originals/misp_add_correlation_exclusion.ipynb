{
 "cells": [
  {
   "cell_type": "markdown",
   "id": "ef505f3d",
   "metadata": {},
   "source": [
    "# Correlation exclusions\n",
    "\n",
    "The MISP **correlation exclusion** list allows you to document threat values where you do not want correlation to take place. \n",
    "\n",
    "You can use this for values that are not relevant for your organisation, for values that provide little additional context or values that are purely informational (and you maybe forgot to disable the correlation flag during ingestion)."
   ]
  },
  {
   "cell_type": "markdown",
   "id": "82fd3e94",
   "metadata": {},
   "source": [
    "## Configure the MISP environment\n",
    "\n",
    "Import the python libraries and load a **keys** file. This keys file contains the URL and API key to access MISP."
   ]
  },
  {
   "cell_type": "code",
   "execution_count": 3,
   "id": "21a5dd87",
   "metadata": {},
   "outputs": [
    {
     "name": "stderr",
     "output_type": "stream",
     "text": [
      "The version of PyMISP recommended by the MISP instance (2.4.160) is newer than the one you're using now (2.4.159). Please upgrade PyMISP.\n"
     ]
    },
    {
     "name": "stdout",
     "output_type": "stream",
     "text": [
      "I will use the server https://misp.demo.cudeso.be\n"
     ]
    }
   ],
   "source": [
    "import urllib3\n",
    "from pymisp import PyMISP, MISPCorrelationExclusion\n",
    "from keys import misp_url, misp_key, misp_verifycert\n",
    "\n",
    "if misp_verifycert is False:\n",
    "    import urllib3\n",
    "    urllib3.disable_warnings(urllib3.exceptions.InsecureRequestWarning)\n",
    "\n",
    "misp = PyMISP(misp_url, misp_key, misp_verifycert)\n",
    "\n",
    "print(\"I will use the server {}\".format(misp_url))"
   ]
  },
  {
   "cell_type": "markdown",
   "id": "8ae19409",
   "metadata": {},
   "source": [
    "## PyMISP\n",
    "\n",
    "The correlation exclusions are supported by PyMISP.\n",
    "\n",
    "### List the correlation exclusions\n",
    "\n",
    "First get all the existing correlation exclusions."
   ]
  },
  {
   "cell_type": "code",
   "execution_count": 4,
   "id": "04e8d4a5",
   "metadata": {},
   "outputs": [
    {
     "name": "stdout",
     "output_type": "stream",
     "text": [
      "6;corp.sharepoint.com;Internal SharePoint server\n",
      "7;192.168.8.8;Internal pri DNS server\n",
      "8;Alert;\n"
     ]
    }
   ],
   "source": [
    "correlation_exclusions = misp.correlation_exclusions(pythonify = True)\n",
    "for exclusion in correlation_exclusions:\n",
    "    print(\"{};{};{}\".format(exclusion.id, exclusion.value, exclusion.comment))"
   ]
  },
  {
   "cell_type": "markdown",
   "id": "7b52b779",
   "metadata": {},
   "source": [
    "### Add a correlation exclusion\n",
    "\n",
    "Now add a new correlation. A correlation requires at least a value. The comment is optional but recommended for documentation purposes."
   ]
  },
  {
   "cell_type": "code",
   "execution_count": 5,
   "id": "e2b1a735",
   "metadata": {},
   "outputs": [
    {
     "name": "stdout",
     "output_type": "stream",
     "text": [
      "{'CorrelationExclusion': {'id': '11', 'value': '8.8.4.4', 'from_json': False, 'comment': 'Google DNS server'}}\n"
     ]
    }
   ],
   "source": [
    "new_exclusion = MISPCorrelationExclusion()\n",
    "new_exclusion.value = \"8.8.4.4\"\n",
    "new_exclusion.comment = \"Google DNS server\"\n",
    "print(misp.add_correlation_exclusion(new_exclusion))"
   ]
  },
  {
   "cell_type": "markdown",
   "id": "c9c11e35",
   "metadata": {},
   "source": [
    "### Delete a correlation exclusion\n",
    "\n",
    "Next to adding exclusions, you can also delete an exclusion. To delete a correlation exclusion you need the ID."
   ]
  },
  {
   "cell_type": "code",
   "execution_count": 6,
   "id": "05ea5ff6",
   "metadata": {},
   "outputs": [
    {
     "name": "stdout",
     "output_type": "stream",
     "text": [
      "{'saved': True, 'success': True, 'name': 'CorrelationExclusion deleted.', 'message': 'CorrelationExclusion deleted.', 'url': '/correlation_exclusions/delete/11', 'id': 11}\n"
     ]
    }
   ],
   "source": [
    "exclusion_to_delete = 11\n",
    "print(misp.delete_correlation_exclusion(exclusion_to_delete))"
   ]
  },
  {
   "cell_type": "markdown",
   "id": "230de7b2",
   "metadata": {},
   "source": [
    "### Cleanup the correlation exclusions\n",
    "\n",
    "Adding correlation exclusions is all fine and well if you start with a clean MISP. This is often not the case. You can **clean up existing correlations**. If they match with your exclusions then they are removed from the correlations."
   ]
  },
  {
   "cell_type": "code",
   "execution_count": 7,
   "id": "3155aa2b",
   "metadata": {},
   "outputs": [
    {
     "name": "stdout",
     "output_type": "stream",
     "text": [
      "{'saved': True, 'success': True, 'name': 'Correlations cleanup initiated, based on the exclusion rules.', 'message': 'Correlations cleanup initiated, based on the exclusion rules.', 'url': '/correlation_exclusions/clean'}\n"
     ]
    }
   ],
   "source": [
    "print(misp.clean_correlation_exclusions())"
   ]
  },
  {
   "cell_type": "markdown",
   "id": "c56710a3",
   "metadata": {},
   "source": [
    "## Access the correlations without PyMISP\n",
    "\n",
    "Do not despair if you do not have PyMISP installed. You can manipulate the correlation exclusions also directly via the requests library. First import the library and set the necessary HTTP headers."
   ]
  },
  {
   "cell_type": "code",
   "execution_count": 8,
   "id": "795732d6",
   "metadata": {},
   "outputs": [],
   "source": [
    "import requests\n",
    "\n",
    "misp_headers = {\n",
    "            \"Authorization\": misp_key,\n",
    "            \"Content-Type\": \"application/x-www-form-urlencoded; charset=UTF-8\",\n",
    "            \"Accept\": \"application/json\",\n",
    "            \"X-Requested-With\": \"XMLHttpRequest\"\n",
    "        }"
   ]
  },
  {
   "cell_type": "code",
   "execution_count": 9,
   "id": "45f68181",
   "metadata": {},
   "outputs": [
    {
     "name": "stdout",
     "output_type": "stream",
     "text": [
      "[{\"CorrelationExclusion\":{\"id\":\"6\",\"value\":\"corp.sharepoint.com\",\"from_json\":false,\"comment\":\"Internal SharePoint server\"}},{\"CorrelationExclusion\":{\"id\":\"7\",\"value\":\"192.168.8.8\",\"from_json\":false,\"comment\":\"Internal pri DNS server\"}},{\"CorrelationExclusion\":{\"id\":\"8\",\"value\":\"Alert\",\"from_json\":false,\"comment\":\"\"}}]\n"
     ]
    }
   ],
   "source": [
    "url_list_exclusions = \"{}/correlation_exclusions/index.json\".format(misp_url)\n",
    "res = requests.get(url_list_exclusions, headers=misp_headers, verify=misp_verifycert)\n",
    "print(res.text)"
   ]
  },
  {
   "cell_type": "markdown",
   "id": "bc0ea32a",
   "metadata": {},
   "source": [
    "### Add a correlation exclusions with requests"
   ]
  },
  {
   "cell_type": "code",
   "execution_count": 10,
   "id": "80e09940",
   "metadata": {},
   "outputs": [
    {
     "name": "stdout",
     "output_type": "stream",
     "text": [
      "{\"CorrelationExclusion\":{\"id\":\"12\",\"value\":\"9.9.9.9\",\"from_json\":false,\"comment\":\"Another DNS server\"}}\n"
     ]
    }
   ],
   "source": [
    "url_add_exclusion = \"{}/correlation_exclusions/add\".format(misp_url)        \n",
    "exclusion_to_add = \"9.9.9.9\"\n",
    "exclusion_comment = \"Another DNS server\"\n",
    "data = \"data[CorrelationExclusion][value]={}&data[CorrelationExclusion][comment]={}\".format(exclusion_to_add, exclusion_comment) \n",
    "res = requests.post(url_add_exclusion, data=data, headers=misp_headers, verify=misp_verifycert)\n",
    "print(res.text)"
   ]
  },
  {
   "cell_type": "markdown",
   "id": "14a35ccb",
   "metadata": {},
   "source": [
    "### Delete a correlation exclusion with requests"
   ]
  },
  {
   "cell_type": "code",
   "execution_count": 11,
   "id": "5667d23b",
   "metadata": {},
   "outputs": [
    {
     "name": "stdout",
     "output_type": "stream",
     "text": [
      "{\"saved\":true,\"success\":true,\"name\":\"CorrelationExclusion deleted.\",\"message\":\"CorrelationExclusion deleted.\",\"url\":\"/correlation_exclusions/delete/12\",\"id\":12}\n"
     ]
    }
   ],
   "source": [
    "exclusion_to_delete = \"12\"\n",
    "url_delete_exclusion = \"{}/correlation_exclusions/delete/{}\".format(misp_url, exclusion_to_delete)\n",
    "res = requests.post(url_delete_exclusion, headers=misp_headers, verify=misp_verifycert)\n",
    "print(res.text)"
   ]
  },
  {
   "cell_type": "markdown",
   "id": "45c9f554",
   "metadata": {},
   "source": [
    "## Staying in control of MISP correlations\n",
    "\n",
    "Also see [Staying in control of MISP correlations](https://www.vanimpe.eu/2021/03/25/staying-in-control-of-misp-correlations/), as well as the new correlation engine support introduced in MISP 2.4.160."
   ]
  },
  {
   "cell_type": "code",
   "execution_count": null,
   "id": "25952712",
   "metadata": {},
   "outputs": [],
   "source": []
  }
 ],
 "metadata": {
  "kernelspec": {
   "display_name": "Python 3 (ipykernel)",
   "language": "python",
   "name": "python3"
  },
  "language_info": {
   "codemirror_mode": {
    "name": "ipython",
    "version": 3
   },
   "file_extension": ".py",
   "mimetype": "text/x-python",
   "name": "python",
   "nbconvert_exporter": "python",
   "pygments_lexer": "ipython3",
   "version": "3.8.10"
  }
 },
 "nbformat": 4,
 "nbformat_minor": 5
}
