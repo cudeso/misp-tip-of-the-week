{
 "cells": [
  {
   "cell_type": "markdown",
   "id": "a50fbc11-348d-4988-89ff-6957cf8a4d0c",
   "metadata": {},
   "source": [
    "# Create MISP objects with PyMISP\n",
    "\n",
    "This notebook demonstrates how to create MISP objects, create relations between objects and how to get details on the MISP object definitions."
   ]
  },
  {
   "cell_type": "code",
   "execution_count": null,
   "id": "5f94c336",
   "metadata": {
    "tags": []
   },
   "outputs": [],
   "source": [
    "import urllib3\n",
    "import sys\n",
    "import json\n",
    "from pyfaup.faup import Faup\n",
    "from pymisp import *\n",
    "\n",
    "sys.path.insert(0, \"../vault/\")\n",
    "from keys import *\n",
    "if misp_verifycert is False:\n",
    "    import urllib3\n",
    "    urllib3.disable_warnings(urllib3.exceptions.InsecureRequestWarning)\n",
    "print(\"\\033[92mPython libraries\\033[90m are loaded and the \\033[92mcredentials\\033[90m are read from keys file.\")\n",
    "\n",
    "# PyMISP object and header dictionary for requests outside PyMISP\n",
    "misp = PyMISP(misp_url, misp_key, misp_verifycert)\n",
    "print(\"I will use the MISP server \\033[92m{}\\033[90m for this playbook.\".format(misp_url))"
   ]
  },
  {
   "cell_type": "markdown",
   "id": "aa9c2530-27b1-48bc-be6e-633f74de221a",
   "metadata": {
    "tags": []
   },
   "source": [
    "## MISP objects\n",
    "\n",
    "### What are MISP objects?\n",
    "\n",
    "MISP objects are **containers around contextually linked attributes**. They support analysts in grouping related attributes and describing the relations that exist between the data points in a threat event. Combining these objects and relations is something that can then be used to represent the story of what is being told in the threat event.\n",
    "\n",
    "MISP supports a large list of objects such as\n",
    "\n",
    "- AV-signature: an antivirus detection signature\n",
    "- Domain/IP: document a tuple domain, hostname and IP address\n",
    "- File: describing a file with meta information\n",
    "- Organization: an object to describe an organization\n",
    "\n",
    "All these objects are available via the [MISP-Objects Github repository](https://github.com/MISP/misp-objects) and directly accessible within MISP.\n",
    "\n",
    "### Adding MISP objects to an event\n",
    "\n",
    "You can add MISP objects to an event via **Add object** in the left menu bar. This is useful for manually adding objects but  the real power comes from automating the process and adding objects to MISP via PyMISP.\n",
    "\n",
    "### MISP object definitions\n",
    "\n",
    "Before you add an object to MISP it is useful to know the requirements, or the attributes, that are essential for an object. You can do this via the GitHub repository but you can also do this directly with PyMISP. The function `get_raw_object_template` queries MISP for the raw template in your MISP system."
   ]
  },
  {
   "cell_type": "code",
   "execution_count": null,
   "id": "078fdc14-0a81-437f-9060-3a977e60aadf",
   "metadata": {
    "tags": []
   },
   "outputs": [],
   "source": [
    "for template in [\"domain-ip\", \"url\"]:\n",
    "    print(\"Object template definition for {}\\n------------------------------------\\n\".format(template))\n",
    "    object_definition = misp.get_raw_object_template(template)\n",
    "    print(json.dumps(object_definition, indent=2))"
   ]
  },
  {
   "cell_type": "markdown",
   "id": "f9cbc87b-0ce3-4bd3-bc7f-34cfe349c219",
   "metadata": {},
   "source": [
    "### Create a MISP object with PyMISP\n",
    "\n",
    "Now that we know the object definition, it's time to create two objects. In this example we create two MISP objects. A `url` object, representing a web url and a `domain-ip` object. We have learned from the previous section that the URL object requires a url (or a resource_path) and that domain-ip requires one of ip, domain or hostname.\n",
    "\n",
    "We use the URL `https://www.misp-project.org/` and will use the Faup library to extract the domain of the URL."
   ]
  },
  {
   "cell_type": "code",
   "execution_count": null,
   "id": "235bd700-7bd3-4f75-a0e7-a98097764653",
   "metadata": {
    "tags": []
   },
   "outputs": [],
   "source": [
    "url = \"https://www.misp-project.org/\"\n",
    "misp_event_uuid = \"5bee196d-1ed5-418a-b032-32760b477c88\""
   ]
  },
  {
   "cell_type": "code",
   "execution_count": null,
   "id": "0e9a0dfb-5510-4d18-8e4f-21364d0f7732",
   "metadata": {
    "tags": []
   },
   "outputs": [],
   "source": [
    "fp = Faup()\n",
    "fp.decode(url)\n",
    "phishing_url_parsed = fp.get()\n",
    "domain = phishing_url_parsed.get(\"domain\", False)\n",
    "if domain:\n",
    "    # Create the MISP URL object\n",
    "    url_object = MISPObject(\"url\")\n",
    "    url_object.add_attribute(\"url\", url)\n",
    "    url_object.add_attribute(\"domain\", domain)    \n",
    "    url_object.add_attribute(\"host\", phishing_url_parsed.get(\"host\", False))\n",
    "    url_object.add_attribute(\"scheme\", phishing_url_parsed.get(\"scheme\", False))\n",
    "\n",
    "    # Create the MISP domain-ip object\n",
    "    domain_ip_object = MISPObject(\"domain-ip\")\n",
    "    domain_ip_object.add_attribute(\"domain\", domain)\n",
    "    \n",
    "    # Add the objects to MISP\n",
    "    url_object_misp = misp.add_object(misp_event_uuid, url_object, pythonify=True)\n",
    "    print(\"Added URL object \\033[92m{}\\033[90m\".format(url_object_misp.uuid))\n",
    "    domain_ip_object_misp = misp.add_object(misp_event_uuid, domain_ip_object, pythonify=True)   \n",
    "    print(\"Added domain-ip object \\033[92m{}\\033[90m\".format(url_object_misp.uuid))\n",
    "    \n",
    "    # Add a relationship between the objects\n",
    "    reference = misp.add_object_reference(url_object_misp.add_reference(domain_ip_object_misp.uuid, \"related-to\"), pythonify=True)\n",
    "    print(\"Added relation between URL and domain-ip object \\033[92m{}\\033[90m\".format(reference.uuid))"
   ]
  }
 ],
 "metadata": {
  "celltoolbar": "Attachments",
  "kernelspec": {
   "display_name": "Python 3 (ipykernel)",
   "language": "python",
   "name": "python3"
  },
  "language_info": {
   "codemirror_mode": {
    "name": "ipython",
    "version": 3
   },
   "file_extension": ".py",
   "mimetype": "text/x-python",
   "name": "python",
   "nbconvert_exporter": "python",
   "pygments_lexer": "ipython3",
   "version": "3.8.10"
  },
  "toc-showcode": false,
  "toc-showmarkdowntxt": false
 },
 "nbformat": 4,
 "nbformat_minor": 5
}
