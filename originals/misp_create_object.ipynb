{
 "cells": [
  {
   "cell_type": "markdown",
   "id": "baf588b9",
   "metadata": {},
   "source": [
    "# Create a MISP file object\n",
    "\n",
    "Add a MISP file object to a specific threat event. As an analyst set the file attributes and the event ID."
   ]
  },
  {
   "cell_type": "markdown",
   "id": "10e9f14b",
   "metadata": {},
   "source": [
    "## Init MISP"
   ]
  },
  {
   "cell_type": "code",
   "execution_count": null,
   "id": "6d886cc1",
   "metadata": {},
   "outputs": [],
   "source": [
    "import urllib3\n",
    "from pymisp import PyMISP, MISPEvent, MISPObject\n",
    "import sys\n",
    "sys.path.insert(0, \"/home/user/cti-operational-procedure/vault/\")\n",
    "from keys import *\n",
    "\n",
    "if misp_verifycert is False:\n",
    "    import urllib3\n",
    "    urllib3.disable_warnings(urllib3.exceptions.InsecureRequestWarning)\n",
    "\n",
    "misp = PyMISP(misp_url, misp_key, misp_verifycert)\n",
    "\n",
    "print(\"I will use the server {}\".format(misp_url))"
   ]
  },
  {
   "cell_type": "markdown",
   "id": "7590fe31",
   "metadata": {},
   "source": [
    "## Analyst: set file attributes"
   ]
  },
  {
   "cell_type": "code",
   "execution_count": null,
   "id": "94c39b7f",
   "metadata": {},
   "outputs": [],
   "source": [
    "new_file = {\n",
    "    'filename': \"MyFileName.docx\",\n",
    "    'size-in-bytes': '2000',\n",
    "    'md5': '6586f96163923187aaf4aaa233345162',\n",
    "}"
   ]
  },
  {
   "cell_type": "markdown",
   "id": "23f23c8f",
   "metadata": {},
   "source": [
    "## Analyst: set event ID"
   ]
  },
  {
   "cell_type": "code",
   "execution_count": null,
   "id": "f20389ad",
   "metadata": {},
   "outputs": [],
   "source": [
    "event_id = 674"
   ]
  },
  {
   "cell_type": "markdown",
   "id": "21467577",
   "metadata": {},
   "source": [
    "## Create the object"
   ]
  },
  {
   "cell_type": "code",
   "execution_count": null,
   "id": "fb90819a",
   "metadata": {},
   "outputs": [],
   "source": [
    "file_object = MISPObject('file')\n",
    "file_object.add_attribute('filename', new_file.get('filename'))\n",
    "file_object.add_attribute('md5', new_file.get('md5'))\n",
    "file_object.add_attribute('size-in-bytes', new_file.get('size-in-bytes'))\n",
    "res = misp.add_object(event_id, file_object)\n",
    "print(res)"
   ]
  },
  {
   "cell_type": "code",
   "execution_count": null,
   "id": "d036c8c0",
   "metadata": {},
   "outputs": [],
   "source": []
  },
  {
   "cell_type": "code",
   "execution_count": null,
   "id": "3638067d",
   "metadata": {},
   "outputs": [],
   "source": []
  }
 ],
 "metadata": {
  "kernelspec": {
   "display_name": "Python 3 (ipykernel)",
   "language": "python",
   "name": "python3"
  },
  "language_info": {
   "codemirror_mode": {
    "name": "ipython",
    "version": 3
   },
   "file_extension": ".py",
   "mimetype": "text/x-python",
   "name": "python",
   "nbconvert_exporter": "python",
   "pygments_lexer": "ipython3",
   "version": "3.8.10"
  }
 },
 "nbformat": 4,
 "nbformat_minor": 5
}
