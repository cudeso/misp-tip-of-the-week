{
 "cells": [
  {
   "cell_type": "markdown",
   "id": "5bacc41b",
   "metadata": {},
   "source": [
    "# Operational procedures with Jupyter notebooks and PyMISP"
   ]
  },
  {
   "cell_type": "markdown",
   "id": "77e70ddf",
   "metadata": {},
   "source": [
    "## Skeleton"
   ]
  },
  {
   "cell_type": "code",
   "execution_count": null,
   "id": "8f7a4567",
   "metadata": {},
   "outputs": [],
   "source": [
    "import urllib3\n",
    "from pymisp import PyMISP, MISPEvent\n",
    "import sys\n",
    "sys.path.insert(0, \"/home/user/cti-operational-procedure/vault/\")\n",
    "from keys import misp_url, misp_key, misp_verifycert\n",
    "\n",
    "if misp_verifycert is False:\n",
    "    import urllib3\n",
    "    urllib3.disable_warnings(urllib3.exceptions.InsecureRequestWarning)\n",
    "\n",
    "misp = PyMISP(misp_url, misp_key, misp_verifycert)\n",
    "    \n",
    "print(\"I will use the server {}\".format(misp_url))"
   ]
  }
 ],
 "metadata": {
  "kernelspec": {
   "display_name": "Python 3 (ipykernel)",
   "language": "python",
   "name": "python3"
  },
  "language_info": {
   "codemirror_mode": {
    "name": "ipython",
    "version": 3
   },
   "file_extension": ".py",
   "mimetype": "text/x-python",
   "name": "python",
   "nbconvert_exporter": "python",
   "pygments_lexer": "ipython3",
   "version": "3.8.10"
  }
 },
 "nbformat": 4,
 "nbformat_minor": 5
}
