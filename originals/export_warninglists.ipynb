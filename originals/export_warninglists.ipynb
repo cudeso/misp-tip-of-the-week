{
 "cells": [
  {
   "cell_type": "markdown",
   "id": "5bacc41b",
   "metadata": {},
   "source": [
    "# Export warninglists"
   ]
  },
  {
   "cell_type": "code",
   "execution_count": null,
   "id": "8f7a4567",
   "metadata": {},
   "outputs": [],
   "source": [
    "import urllib3\n",
    "from pymisp import *\n",
    "import requests\n",
    "import sys\n",
    "sys.path.insert(0, \"/home/koenv/cti-operational-procedure/vault/\")\n",
    "from keys import misp_url, misp_key, misp_verifycert\n",
    "\n",
    "if misp_verifycert is False:\n",
    "    import urllib3\n",
    "    urllib3.disable_warnings(urllib3.exceptions.InsecureRequestWarning)\n",
    "\n",
    "misp = PyMISP(misp_url, misp_key, misp_verifycert)\n",
    "    \n",
    "print(\"I will use the server {}\".format(misp_url))"
   ]
  },
  {
   "cell_type": "markdown",
   "id": "d073d46f",
   "metadata": {},
   "source": [
    "## Query the available warninglists and export them\n",
    "\n",
    "List the warninglists that you want to export. \n",
    "- Set **break_list** to True if you want a separator printed between individual lists.\n",
    "- Set **print_list_name** to True if you want to print the list name before the list content\n",
    "\n",
    "Note that warninglists need to be enabled in MISP. If they are not enabled, they are not exported."
   ]
  },
  {
   "cell_type": "code",
   "execution_count": null,
   "id": "19a9f1c1",
   "metadata": {},
   "outputs": [],
   "source": [
    "warninglists_to_export = [ \"org-confidence-level-high\", \"List of known hashes for empty files\", \"List of known SMTP sending IP ranges\" ]\n",
    "break_list = True\n",
    "print_list_name = True"
   ]
  },
  {
   "cell_type": "code",
   "execution_count": null,
   "id": "9de1cce3",
   "metadata": {},
   "outputs": [],
   "source": [
    "warninglists = misp.warninglists(pythonify=True)\n",
    "warninglist_id = []\n",
    "for warninglist in warninglists:\n",
    "    if warninglist.enabled and warninglist.name in warninglists_to_export:\n",
    "        warninglist_id.append(int(warninglist.id))\n",
    "        \n",
    "if (len(warninglist_id) > 0):\n",
    "    for list_id in warninglist_id:\n",
    "        list_content = misp.get_warninglist(list_id, pythonify=True)\n",
    "        if print_list_name:\n",
    "            print(list_content.name)\n",
    "        for entry in list_content.WarninglistEntry:\n",
    "            if len(entry[\"value\"].strip()) > 0 :\n",
    "                print(entry[\"value\"])\n",
    "        if break_list:\n",
    "            print(\"------------------------------------------------------------------------\")\n",
    "else:\n",
    "    print(\"No matching warninglist found for {}\".format(warninglists_to_export))"
   ]
  },
  {
   "cell_type": "code",
   "execution_count": null,
   "id": "6d8f37f9",
   "metadata": {},
   "outputs": [],
   "source": []
  }
 ],
 "metadata": {
  "kernelspec": {
   "display_name": "Python 3 (ipykernel)",
   "language": "python",
   "name": "python3"
  },
  "language_info": {
   "codemirror_mode": {
    "name": "ipython",
    "version": 3
   },
   "file_extension": ".py",
   "mimetype": "text/x-python",
   "name": "python",
   "nbconvert_exporter": "python",
   "pygments_lexer": "ipython3",
   "version": "3.8.10"
  }
 },
 "nbformat": 4,
 "nbformat_minor": 5
}
