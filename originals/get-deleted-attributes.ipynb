{
 "cells": [
  {
   "cell_type": "markdown",
   "id": "5bacc41b",
   "metadata": {},
   "source": [
    "# Display MISP deleted attributes "
   ]
  },
  {
   "cell_type": "code",
   "execution_count": 26,
   "id": "8f7a4567",
   "metadata": {},
   "outputs": [
    {
     "name": "stderr",
     "output_type": "stream",
     "text": [
      "The version of PyMISP recommended by the MISP instance (2.4.162) is newer than the one you're using now (2.4.159). Please upgrade PyMISP.\n"
     ]
    },
    {
     "name": "stdout",
     "output_type": "stream",
     "text": [
      "I will use the server https://misp.demo.cudeso.be/\n"
     ]
    }
   ],
   "source": [
    "import urllib3\n",
    "from pymisp import PyMISP, MISPEvent\n",
    "import sys\n",
    "sys.path.insert(0, \"/home/koenv/cti-operational-procedure/vault/\")\n",
    "from keys import misp_url, misp_key, misp_verifycert\n",
    "\n",
    "if misp_verifycert is False:\n",
    "    import urllib3\n",
    "    urllib3.disable_warnings(urllib3.exceptions.InsecureRequestWarning)\n",
    "\n",
    "misp = PyMISP(misp_url, misp_key, misp_verifycert)\n",
    "    \n",
    "print(\"I will use the server {}\".format(misp_url))\n",
    "\n",
    "import requests\n",
    "import tabulate\n",
    "misp_headers = { \"Authorization\": misp_key, \"Content-Type\": \"application/json\", \"Accept\": \"application/json\" }"
   ]
  },
  {
   "cell_type": "markdown",
   "id": "6b98cf9e",
   "metadata": {},
   "source": [
    "## List of \"to delete\" attributes\n",
    "\n",
    "The attribute restsearch allows to search for **deleted** attributes by setting `deleted` to true. Note that you have to do this by supplying the value **1**, not the value **0**."
   ]
  },
  {
   "cell_type": "code",
   "execution_count": 27,
   "id": "eaa42126",
   "metadata": {},
   "outputs": [],
   "source": [
    "data = { \"returnFormat\": \"json\", \"deleted\": \"1\" }"
   ]
  },
  {
   "cell_type": "code",
   "execution_count": 28,
   "id": "dc87260e",
   "metadata": {},
   "outputs": [
    {
     "name": "stdout",
     "output_type": "stream",
     "text": [
      "  Event ID  Event title            Attribute ID  Attribute value\n",
      "----------  -------------------  --------------  -----------------\n",
      "       111  Basic malware event         2278551  my_bad_file.exe\n",
      "       965  Demo Event 2022             2300697  www.google.com\n"
     ]
    }
   ],
   "source": [
    "result = requests.post(\"{}/{}\".format(misp_url, \"attributes/restSearch\"), headers=misp_headers, verify=misp_verifycert, json=data)\n",
    "deleted_attributes = []\n",
    "for attr in result.json()[\"response\"][\"Attribute\"]:\n",
    "    deleted_attributes.append(\n",
    "            [ attr[\"event_id\"], attr[\"Event\"][\"info\"], attr[\"id\"], attr[\"value\"]]\n",
    "    )\n",
    "\n",
    "print(tabulate.tabulate(deleted_attributes, headers=[\"Event ID\", \"Event title\", \"Attribute ID\", \"Attribute value\"]))"
   ]
  },
  {
   "cell_type": "markdown",
   "id": "fe19cc7c",
   "metadata": {},
   "source": [
    "## Recover\n",
    "\n",
    "Recover a deleted attribute by updating the **attribute_id** value with the desired attribute ID"
   ]
  },
  {
   "cell_type": "code",
   "execution_count": null,
   "id": "fcdb56e7",
   "metadata": {},
   "outputs": [],
   "source": [
    "attribute_id = 0"
   ]
  },
  {
   "cell_type": "code",
   "execution_count": null,
   "id": "88ebdce8",
   "metadata": {},
   "outputs": [],
   "source": [
    "result = requests.post(\"{}/{}/{}\".format(misp_url, \"attributes/restore\", attribute_id), headers=misp_headers, verify=misp_verifycert, json=data)\n",
    "if \"Attribute\" in result.json():\n",
    "    print(\"Attribute recovered\")\n",
    "else:\n",
    "    print(result.json())"
   ]
  },
  {
   "cell_type": "markdown",
   "id": "512c9792",
   "metadata": {},
   "source": [
    "## Purge\n",
    "\n",
    "Permanently delete an attribute by updating the **attribute_id** value with the desired attribute ID. This action **cannot** be undone."
   ]
  },
  {
   "cell_type": "code",
   "execution_count": null,
   "id": "83e36003",
   "metadata": {},
   "outputs": [],
   "source": [
    "result = requests.post(\"{}/{}/{}/true\".format(misp_url, \"attributes/delete\", attribute_id), headers=misp_headers, verify=misp_verifycert, json=data)\n",
    "print(result.json())"
   ]
  }
 ],
 "metadata": {
  "kernelspec": {
   "display_name": "Python 3.7.3 64-bit",
   "language": "python",
   "name": "python3"
  },
  "language_info": {
   "codemirror_mode": {
    "name": "ipython",
    "version": 3
   },
   "file_extension": ".py",
   "mimetype": "text/x-python",
   "name": "python",
   "nbconvert_exporter": "python",
   "pygments_lexer": "ipython3",
   "version": "3.7.3"
  },
  "vscode": {
   "interpreter": {
    "hash": "31f2aee4e71d21fbe5cf8b01ff0e069b9275f58929596ceb00d14d90e3e16cd6"
   }
  }
 },
 "nbformat": 4,
 "nbformat_minor": 5
}
