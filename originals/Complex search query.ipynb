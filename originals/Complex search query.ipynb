{
 "cells": [
  {
   "cell_type": "markdown",
   "id": "5bacc41b",
   "metadata": {},
   "source": [
    "# Build complex MISP search queries with PyMISP"
   ]
  },
  {
   "cell_type": "markdown",
   "id": "19404e33",
   "metadata": {},
   "source": [
    "Getting the different **AND**, **OR** or **NOT** conditions right when building a MISP search query can be challenging. But you can get help from **PyMISP**. \n",
    "\n",
    "The function [build_complex_query](https://pymisp.readthedocs.io/en/latest/modules.html#pymisp.PyMISP.build_complex_query) allows you to build complex queries. The function accepts three variables (all dictionaries)\n",
    "\n",
    "- or_parameters\n",
    "- and_parameters\n",
    "- not_parameters\n",
    "\n",
    "The function will **not** execute the query, it only returns the search query that you can use in a follow-up query. You can use the function to build for example a search query for tags or values."
   ]
  },
  {
   "cell_type": "code",
   "execution_count": 1,
   "id": "8f7a4567",
   "metadata": {},
   "outputs": [
    {
     "name": "stderr",
     "output_type": "stream",
     "text": [
      "The version of PyMISP recommended by the MISP instance (2.4.162) is newer than the one you're using now (2.4.159). Please upgrade PyMISP.\n"
     ]
    },
    {
     "name": "stdout",
     "output_type": "stream",
     "text": [
      "I will use the server https://misp.demo.cudeso.be/\n"
     ]
    }
   ],
   "source": [
    "import urllib3\n",
    "from pymisp import PyMISP, MISPEvent\n",
    "import sys\n",
    "sys.path.insert(0, \"/home/koenv/cti-operational-procedure/vault/\")\n",
    "from keys import misp_url, misp_key, misp_verifycert\n",
    "\n",
    "if misp_verifycert is False:\n",
    "    import urllib3\n",
    "    urllib3.disable_warnings(urllib3.exceptions.InsecureRequestWarning)\n",
    "\n",
    "misp = PyMISP(misp_url, misp_key, misp_verifycert)\n",
    "    \n",
    "print(\"I will use the server {}\".format(misp_url))"
   ]
  },
  {
   "cell_type": "code",
   "execution_count": 2,
   "id": "19a9f1c1",
   "metadata": {},
   "outputs": [],
   "source": [
    "or_parameters = [ ]\n",
    "and_parameters = [ \"workflow:state=\\incomplete\\\"\", \"workflow:todo=\\\"review-for-privacy\\\"\" ]\n",
    "not_parameters = [ \"tlp:red\"]"
   ]
  },
  {
   "cell_type": "code",
   "execution_count": 3,
   "id": "bbfaf135",
   "metadata": {},
   "outputs": [
    {
     "name": "stdout",
     "output_type": "stream",
     "text": [
      "You can use this complex search query {'AND': ['workflow:state=\\\\incomplete\"', 'workflow:todo=\"review-for-privacy\"'], 'NOT': ['tlp:red']}\n"
     ]
    }
   ],
   "source": [
    "complex_search_query = misp.build_complex_query(or_parameters=or_parameters, \\\n",
    "                                                and_parameters=and_parameters, \\\n",
    "                                                not_parameters=not_parameters)\n",
    "print(\"You can use this complex search query {}\".format(complex_search_query))"
   ]
  },
  {
   "cell_type": "code",
   "execution_count": 4,
   "id": "6a83a759",
   "metadata": {},
   "outputs": [
    {
     "name": "stdout",
     "output_type": "stream",
     "text": [
      "Threat event with PII\n",
      "  workflow:todo=\"review-for-privacy\"\n",
      "  workflow:state=\"incomplete\"\n",
      "  tlp:amber\n"
     ]
    }
   ],
   "source": [
    "search_result = misp.search(tags=complex_search_query, pythonify=True)\n",
    "for event in search_result:\n",
    "    print(event.info)\n",
    "    for tag in event.tags:\n",
    "        print(\"  {}\".format(tag.name))"
   ]
  },
  {
   "cell_type": "code",
   "execution_count": null,
   "id": "9f04fb4e",
   "metadata": {},
   "outputs": [],
   "source": []
  }
 ],
 "metadata": {
  "kernelspec": {
   "display_name": "Python 3 (ipykernel)",
   "language": "python",
   "name": "python3"
  },
  "language_info": {
   "codemirror_mode": {
    "name": "ipython",
    "version": 3
   },
   "file_extension": ".py",
   "mimetype": "text/x-python",
   "name": "python",
   "nbconvert_exporter": "python",
   "pygments_lexer": "ipython3",
   "version": "3.8.10"
  }
 },
 "nbformat": 4,
 "nbformat_minor": 5
}
