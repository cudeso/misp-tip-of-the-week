{
 "cells": [
  {
   "cell_type": "markdown",
   "id": "baf588b9",
   "metadata": {},
   "source": [
    "# Procedure to handle IP address"
   ]
  },
  {
   "cell_type": "markdown",
   "id": "10e9f14b",
   "metadata": {},
   "source": [
    "## Init MISP"
   ]
  },
  {
   "cell_type": "code",
   "execution_count": null,
   "id": "6d886cc1",
   "metadata": {},
   "outputs": [],
   "source": [
    "import urllib3\n",
    "from pymisp import PyMISP, MISPEvent\n",
    "import sys\n",
    "sys.path.insert(0, \"/home/user/cti-operational-procedure/vault/\")\n",
    "from keys import *\n",
    "\n",
    "if misp_verifycert is False:\n",
    "    import urllib3\n",
    "    urllib3.disable_warnings(urllib3.exceptions.InsecureRequestWarning)\n",
    "\n",
    "misp = PyMISP(misp_url, misp_key, misp_verifycert)\n",
    "\n",
    "import requests\n",
    "\n",
    "misp_headers = {\n",
    "            \"Authorization\": misp_key,\n",
    "            \"Content-Type\": \"application/json\",\n",
    "            \"Accept\": \"application/json\"\n",
    "        }\n",
    "\n",
    "import tabulate\n",
    "\n",
    "print(\"I will use the server {}\".format(misp_url))"
   ]
  },
  {
   "cell_type": "markdown",
   "id": "7590fe31",
   "metadata": {},
   "source": [
    "## Analyst: set IP address"
   ]
  },
  {
   "cell_type": "code",
   "execution_count": null,
   "id": "94c39b7f",
   "metadata": {},
   "outputs": [],
   "source": [
    "investigate_ip = \"200.159.87.196\""
   ]
  },
  {
   "cell_type": "markdown",
   "id": "23f23c8f",
   "metadata": {},
   "source": [
    "## Lookup in the cache"
   ]
  },
  {
   "cell_type": "code",
   "execution_count": null,
   "id": "f20389ad",
   "metadata": {},
   "outputs": [],
   "source": [
    "misp_cache_url = \"{}/feeds/searchCaches/value:{}\".format(misp_url, investigate_ip)\n",
    "cache_results = requests.get(misp_cache_url, headers=misp_headers, verify=misp_verifycert)\n",
    "direct_urls = []\n",
    "for el in cache_results.json():\n",
    "    direct_urls.append(el[\"Feed\"][\"direct_urls\"])"
   ]
  },
  {
   "cell_type": "markdown",
   "id": "21467577",
   "metadata": {},
   "source": [
    "## Fetch the cached events"
   ]
  },
  {
   "cell_type": "code",
   "execution_count": null,
   "id": "fb90819a",
   "metadata": {},
   "outputs": [],
   "source": [
    "cache_table = []\n",
    "for el in direct_urls[0]:\n",
    "    misp_preview_cache_url = el[\"url\"]\n",
    "    cached_event = requests.get(misp_preview_cache_url, headers=misp_headers, verify=misp_verifycert)\n",
    "    \n",
    "    cached_event_title = cached_event.json()[\"Event\"][\"info\"]\n",
    "    cached_event_data = cached_event.json()[\"Event\"][\"date\"]\n",
    "    cache_table.append([cached_event_title, cached_event_data])\n"
   ]
  },
  {
   "cell_type": "code",
   "execution_count": null,
   "id": "2c6216c0",
   "metadata": {},
   "outputs": [],
   "source": [
    "print(tabulate.tabulate(cache_table, headers=[\"MISP Event title\", \"Date\"]))"
   ]
  },
  {
   "cell_type": "code",
   "execution_count": null,
   "id": "a2fab151",
   "metadata": {},
   "outputs": [],
   "source": [
    "import pypdns\n",
    "x = pypdns.PyPDNS(basic_auth=(pdns_user,pdns_password))\n",
    "pdns_results = x.query(investigate_ip)\n",
    "pdns_results_table = []\n",
    "if len(pdns_results) > 0:\n",
    "    for el in pdns_results:\n",
    "        pdns_results_table.append([el[\"rdata\"], el[\"rrname\"], el[\"rrtype\"]])\n",
    "\n",
    "print(tabulate.tabulate(pdns_results_table, headers=[\"Data\", \"Name\", \"Type\"]))"
   ]
  },
  {
   "cell_type": "code",
   "execution_count": null,
   "id": "bde031ee",
   "metadata": {},
   "outputs": [],
   "source": []
  }
 ],
 "metadata": {
  "kernelspec": {
   "display_name": "Python 3 (ipykernel)",
   "language": "python",
   "name": "python3"
  },
  "language_info": {
   "codemirror_mode": {
    "name": "ipython",
    "version": 3
   },
   "file_extension": ".py",
   "mimetype": "text/x-python",
   "name": "python",
   "nbconvert_exporter": "python",
   "pygments_lexer": "ipython3",
   "version": "3.8.10"
  }
 },
 "nbformat": 4,
 "nbformat_minor": 5
}
